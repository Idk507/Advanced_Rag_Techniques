{
 "cells": [
  {
   "cell_type": "code",
   "execution_count": 11,
   "metadata": {},
   "outputs": [],
   "source": [
    "import os \n",
    "import chromadb \n",
    "from langchain.vectorstores import Chroma \n",
    "from langchain.document_transformers import LongContextReorder \n",
    "from langchain.prompts import PromptTemplate\n",
    "from langchain.embeddings import HuggingFaceBgeEmbeddings \n",
    "from langchain.retrievers.merger_retriever import MergerRetriever \n",
    "from langchain.document_loaders import PyPDFLoader\n",
    "from langchain.text_splitter import  RecursiveCharacterTextSplitter"
   ]
  },
  {
   "cell_type": "markdown",
   "metadata": {},
   "source": [
    "LOTR (Lord of the Retriever), also known as the Merger Retriever. This intriguing technique utilizes a round-robin approach to merge results from multiple vector databases, ensuring a robust and diverse set of results.\n",
    "Long Context Reorder: This is all about the reranking of retrievers. Once you've retrieved your documents using multiple models, how do you optimally order them to ensure relevance and precision?\n",
    "For those dabbling with Retrieval Augmented Generation (RAG), implementing these techniques is pivotal. A more effective retrieval process directly enhances the quality and relevance of the generated content in RAG models"
   ]
  },
  {
   "cell_type": "code",
   "execution_count": 3,
   "metadata": {},
   "outputs": [],
   "source": [
    "\n",
    "model_name = \"BAAI/bge-large-en\"\n",
    "model_kwargs = {'device': 'cpu'}\n",
    "encode_kwargs = {'normalize_embeddings': False}"
   ]
  },
  {
   "cell_type": "code",
   "execution_count": 4,
   "metadata": {},
   "outputs": [
    {
     "name": "stderr",
     "output_type": "stream",
     "text": [
      "c:\\Users\\Administrator\\miniconda3\\envs\\idk\\Lib\\site-packages\\sentence_transformers\\cross_encoder\\CrossEncoder.py:11: TqdmExperimentalWarning: Using `tqdm.autonotebook.tqdm` in notebook mode. Use `tqdm.tqdm` instead to force console mode (e.g. in jupyter console)\n",
      "  from tqdm.autonotebook import tqdm, trange\n"
     ]
    }
   ],
   "source": [
    "hf = HuggingFaceBgeEmbeddings(\n",
    "    model_name=model_name,\n",
    "    model_kwargs=model_kwargs,\n",
    "    encode_kwargs=encode_kwargs\n",
    ")"
   ]
  },
  {
   "cell_type": "code",
   "execution_count": 13,
   "metadata": {},
   "outputs": [],
   "source": [
    "#Data Preprocessing\n",
    "loader_un_sdg = PyPDFLoader(\"data/UN SDG.pdf\")\n",
    "documents_un_sdg = loader_un_sdg.load()\n",
    "text_splitter_un_sdg = RecursiveCharacterTextSplitter(chunk_size=1000,chunk_overlap=100)\n",
    "text_un_sdg = text_splitter_un_sdg.split_documents(documents_un_sdg)\n",
    "\n"
   ]
  },
  {
   "cell_type": "code",
   "execution_count": 14,
   "metadata": {},
   "outputs": [],
   "source": [
    "loader_paris_agreement = PyPDFLoader(\"data/english_paris_agreement.pdf\")\n",
    "documents_paris_agreement = loader_paris_agreement.load()\n",
    "text_splitter_paris_agreement = RecursiveCharacterTextSplitter(chunk_size=1000,\n",
    "                                                   chunk_overlap=100)\n",
    "texts_paris_agreement = text_splitter_paris_agreement.split_documents(documents_paris_agreement)"
   ]
  },
  {
   "cell_type": "code",
   "execution_count": 16,
   "metadata": {},
   "outputs": [],
   "source": [
    "un_sdg_store = Chroma.from_documents(text_un_sdg, hf, collection_metadata={\"hnsw:space\": \"cosine\"}, persist_directory=\"store/un_sdg_chroma_cosine\")"
   ]
  },
  {
   "cell_type": "code",
   "execution_count": 17,
   "metadata": {},
   "outputs": [],
   "source": [
    "paris_agreement_store = Chroma.from_documents(texts_paris_agreement, hf, collection_metadata={\"hnsw:space\": \"cosine\"}, persist_directory=\"store/paris_chroma_cosine\")"
   ]
  },
  {
   "cell_type": "code",
   "execution_count": 18,
   "metadata": {},
   "outputs": [
    {
     "name": "stdout",
     "output_type": "stream",
     "text": [
      "First Vector Store Loaded.........\n"
     ]
    }
   ],
   "source": [
    "load_un_sdg_store = Chroma(persist_directory=\"store/un_sdg_chroma_cosine\", embedding_function=hf)\n",
    "print(\"First Vector Store Loaded.........\")"
   ]
  },
  {
   "cell_type": "code",
   "execution_count": 19,
   "metadata": {},
   "outputs": [
    {
     "name": "stdout",
     "output_type": "stream",
     "text": [
      "Second Vector Store Loaded........\n"
     ]
    }
   ],
   "source": [
    "load_paris_agreement_store = Chroma(persist_directory=\"store/paris_chroma_cosine\", embedding_function=hf)\n",
    "print(\"Second Vector Store Loaded........\")"
   ]
  },
  {
   "cell_type": "markdown",
   "metadata": {},
   "source": [
    "# Init Merger Retriver"
   ]
  },
  {
   "cell_type": "code",
   "execution_count": 23,
   "metadata": {},
   "outputs": [],
   "source": [
    "retriever_un_sdg = load_un_sdg_store.as_retriever(search_type = \"similarity\", search_kwargs = {\"k\":3})\n",
    "\n",
    "retriever_paris_agreement = load_paris_agreement_store.as_retriever(search_type = \"similarity\", search_kwargs = {\"k\":3})"
   ]
  },
  {
   "cell_type": "code",
   "execution_count": 24,
   "metadata": {},
   "outputs": [],
   "source": [
    "\n",
    "lotr = MergerRetriever(retrievers=[retriever_un_sdg, retriever_paris_agreement])"
   ]
  },
  {
   "cell_type": "code",
   "execution_count": 25,
   "metadata": {},
   "outputs": [
    {
     "name": "stdout",
     "output_type": "stream",
     "text": [
      "the+ commitment+ undertaken+ by+ developedJcountry+ parties+ to+ the+ United+Nations+Framework+Convention+on+Climate+Change+to+a+goal+of+mobilizing+jointly+$100+billion+annually+by+2020+from+all+sources+to+address+the+needs+of+developing+countries+in+the+context+of+meaningful+mitigation+actions+and+transparency+on+implementation+and+fully+operationalize+the+Green+Climate+Fund+through+its+capitalization+as+soon+as+possible+++ *+Acknowledging+that+the+United+Nations+Framework+Convention+on+Climate+Change+is+the+primary+international,+intergovernmental+forum+for+negotiating+the+global+response+to+climate+change.+\n",
      "finance should  represent a progression beyond previous efforts. \n",
      "4. The provision of scaled-up financial resources should aim to achieve a \n",
      "balance between adaptation and mitigation, taking into account country-driven \n",
      "strategies, and the priorities and needs of developing country Parties, especially \n",
      "those that are particularly vulnerable to the adverse effects of climate change and \n",
      "have significant capacity constraints, such as the least developed countries and \n",
      "small island developing States, considering the need for public and grant-based \n",
      "resources for adaptation. \n",
      "5. Developed country Parties shall biennially communicate indicative \n",
      "quantitative and qualitative information related to paragraphs 1 and 3 of this \n",
      "Article, as applicable, including, as available, projected levels of public financial \n",
      "resources to be provided to developing country Parties. Other Parties providing \n",
      "resources are encouraged to communicate biennially such information on a \n",
      "voluntary basis.\n",
      "2030,+ provide+ universal+ access+ to+ safe,+ inclusive+ and+ accessible,+ green+ and+ public+spaces,+in+particular+for+women+and+children,+older+persons+and+persons+with+disabilities++11.a+Support+positive+economic,+social+and+environmental+links+between+urban,+periJurban+and+rural+areas+by+strengthening+national+and+regional+development+planning++11.b+By+2020,+substantially+increase+the+number+of+cities+and+human+settlements+adopting+and+ implementing+ integrated+ policies+ and+ plans+ towards+ inclusion,+ resource+ efficiency,+mitigation+ and+ adaptation+ to+ climate+ change,+ resilience+ to+ disasters,+ and+ develop+ and+implement,+in+line+with+the+Sendai+Framework+for+Disaster+Risk+Reduction+2015J2030,+holistic+disaster+risk+management+at+all+levels++11.c+Support+least+developed+countries,+including+through+financial+and+technical+assistance,+in+building+sustainable+and+resilient+buildings+utilizing+local+materials+++!\n",
      "8. Parties recognize the importance of integrated, holistic and balanced \n",
      "non-market approaches being available to Parties to assist in the implementation of \n",
      "their nationally determined contributions, in the context of sustainable development \n",
      "and poverty eradication, in a coordinated and effective manner, including through, \n",
      "inter alia, mitigation, adaptation, finance, technology transfer and capacity-\n",
      "building, as appropriate. These approaches shall aim to: \n",
      "(a) Promote mitigation and adaptation ambition; \n",
      "(b) Enhance public and private sector participation in the implementation \n",
      "of nationally determined  contributions; and \n",
      "(c) Enable opportunities for coordination across instruments and relevant \n",
      "institutional arrangements. \n",
      "9. A framework for non-market approaches to sustainable development is \n",
      "hereby defined to promote the non-market approaches referred to in paragraph 8 of \n",
      "this Article. \n",
      "-8-\n",
      "by+removing+ market+ distortions,+ in+ accordance+ with+ national+ circumstances,+ including+ by+restructuring+taxation+and+phasing+out+those+harmful+subsidies,+where+they+exist,+to+reflect+their+environmental+impacts,+taking+fully+into+account+the+specific+needs+and+conditions+of+developing+countries+and+minimizing+the+possible+adverse+impacts+on+their+development+in+a+manner+that+protects+the+poor+and+the+affected+communities+++! !Goal!13.!Take!urgent!action!to!combat!climate!change!and!its!impacts*!+13.1+Strengthen+ resilience+ and+ adaptive+ capacity+ to+ climateJrelated+ hazards+ and+ natural+disasters+in+all+countries++13.2+Integrate+climate+change+measures+into+national+policies,+strategies+and+planning++13.3+Improve+education,+awarenessJraising+and+human+and+institutional+capacity+on+climate+change+mitigation,+adaptation,+impact+reduction+and+early+warning+13.a+Implement+ the+ commitment+ undertaken+ by+ developedJcountry+ parties+ to+ the+\n",
      "6. Parties recognize the importance of support for and international cooperation \n",
      "on adaptation efforts and the importance of taking into account the needs of \n",
      "developing country Parties, especially those that are particularly vulnerable to the \n",
      "adverse effects of climate change. \n",
      "7. Parties should strengthen their cooperation on enhancing action on \n",
      "adaptation, taking into account the Cancun Adaptation Framework, including with \n",
      "regard to: \n",
      "-9-\n"
     ]
    }
   ],
   "source": [
    "\n",
    "for chunks in lotr.get_relevant_documents(\"Is there any framework available to tackle the climate change?\"):\n",
    "    print(chunks.page_content)"
   ]
  },
  {
   "cell_type": "code",
   "execution_count": 27,
   "metadata": {},
   "outputs": [
    {
     "data": {
      "text/plain": [
       "[Document(metadata={'page': 26, 'source': 'data/UN SDG.pdf'}, page_content='the+ commitment+ undertaken+ by+ developedJcountry+ parties+ to+ the+ United+Nations+Framework+Convention+on+Climate+Change+to+a+goal+of+mobilizing+jointly+$100+billion+annually+by+2020+from+all+sources+to+address+the+needs+of+developing+countries+in+the+context+of+meaningful+mitigation+actions+and+transparency+on+implementation+and+fully+operationalize+the+Green+Climate+Fund+through+its+capitalization+as+soon+as+possible+++ *+Acknowledging+that+the+United+Nations+Framework+Convention+on+Climate+Change+is+the+primary+international,+intergovernmental+forum+for+negotiating+the+global+response+to+climate+change.+'),\n",
       " Document(metadata={'page': 14, 'source': 'data/english_paris_agreement.pdf'}, page_content='finance should  represent a progression beyond previous efforts. \\n4. The provision of scaled-up financial resources should aim to achieve a \\nbalance between adaptation and mitigation, taking into account country-driven \\nstrategies, and the priorities and needs of developing country Parties, especially \\nthose that are particularly vulnerable to the adverse effects of climate change and \\nhave significant capacity constraints, such as the least developed countries and \\nsmall island developing States, considering the need for public and grant-based \\nresources for adaptation. \\n5. Developed country Parties shall biennially communicate indicative \\nquantitative and qualitative information related to paragraphs 1 and 3 of this \\nArticle, as applicable, including, as available, projected levels of public financial \\nresources to be provided to developing country Parties. Other Parties providing \\nresources are encouraged to communicate biennially such information on a \\nvoluntary basis.'),\n",
       " Document(metadata={'page': 25, 'source': 'data/UN SDG.pdf'}, page_content='2030,+ provide+ universal+ access+ to+ safe,+ inclusive+ and+ accessible,+ green+ and+ public+spaces,+in+particular+for+women+and+children,+older+persons+and+persons+with+disabilities++11.a+Support+positive+economic,+social+and+environmental+links+between+urban,+periJurban+and+rural+areas+by+strengthening+national+and+regional+development+planning++11.b+By+2020,+substantially+increase+the+number+of+cities+and+human+settlements+adopting+and+ implementing+ integrated+ policies+ and+ plans+ towards+ inclusion,+ resource+ efficiency,+mitigation+ and+ adaptation+ to+ climate+ change,+ resilience+ to+ disasters,+ and+ develop+ and+implement,+in+line+with+the+Sendai+Framework+for+Disaster+Risk+Reduction+2015J2030,+holistic+disaster+risk+management+at+all+levels++11.c+Support+least+developed+countries,+including+through+financial+and+technical+assistance,+in+building+sustainable+and+resilient+buildings+utilizing+local+materials+++!'),\n",
       " Document(metadata={'page': 9, 'source': 'data/english_paris_agreement.pdf'}, page_content='8. Parties recognize the importance of integrated, holistic and balanced \\nnon-market approaches being available to Parties to assist in the implementation of \\ntheir nationally determined contributions, in the context of sustainable development \\nand poverty eradication, in a coordinated and effective manner, including through, \\ninter alia, mitigation, adaptation, finance, technology transfer and capacity-\\nbuilding, as appropriate. These approaches shall aim to: \\n(a) Promote mitigation and adaptation ambition; \\n(b) Enhance public and private sector participation in the implementation \\nof nationally determined  contributions; and \\n(c) Enable opportunities for coordination across instruments and relevant \\ninstitutional arrangements. \\n9. A framework for non-market approaches to sustainable development is \\nhereby defined to promote the non-market approaches referred to in paragraph 8 of \\nthis Article. \\n-8-'),\n",
       " Document(metadata={'page': 26, 'source': 'data/UN SDG.pdf'}, page_content='by+removing+ market+ distortions,+ in+ accordance+ with+ national+ circumstances,+ including+ by+restructuring+taxation+and+phasing+out+those+harmful+subsidies,+where+they+exist,+to+reflect+their+environmental+impacts,+taking+fully+into+account+the+specific+needs+and+conditions+of+developing+countries+and+minimizing+the+possible+adverse+impacts+on+their+development+in+a+manner+that+protects+the+poor+and+the+affected+communities+++! !Goal!13.!Take!urgent!action!to!combat!climate!change!and!its!impacts*!+13.1+Strengthen+ resilience+ and+ adaptive+ capacity+ to+ climateJrelated+ hazards+ and+ natural+disasters+in+all+countries++13.2+Integrate+climate+change+measures+into+national+policies,+strategies+and+planning++13.3+Improve+education,+awarenessJraising+and+human+and+institutional+capacity+on+climate+change+mitigation,+adaptation,+impact+reduction+and+early+warning+13.a+Implement+ the+ commitment+ undertaken+ by+ developedJcountry+ parties+ to+ the+'),\n",
       " Document(metadata={'page': 10, 'source': 'data/english_paris_agreement.pdf'}, page_content='6. Parties recognize the importance of support for and international cooperation \\non adaptation efforts and the importance of taking into account the needs of \\ndeveloping country Parties, especially those that are particularly vulnerable to the \\nadverse effects of climate change. \\n7. Parties should strengthen their cooperation on enhancing action on \\nadaptation, taking into account the Cancun Adaptation Framework, including with \\nregard to: \\n-9-')]"
      ]
     },
     "execution_count": 27,
     "metadata": {},
     "output_type": "execute_result"
    }
   ],
   "source": [
    "query = \"Is there any framework available to tackle the climate change?\"\n",
    "docs = lotr.get_relevant_documents(query)\n",
    "docs"
   ]
  },
  {
   "cell_type": "markdown",
   "metadata": {},
   "source": [
    "# Reordered Docs (Tackling Lost in the Middle)\n",
    "\n",
    "https://python.langchain.com/docs/integrations/retrievers/merger_retriever/"
   ]
  },
  {
   "cell_type": "code",
   "execution_count": 28,
   "metadata": {},
   "outputs": [],
   "source": [
    "reordering = LongContextReorder()\n",
    "reordered_docs = reordering.transform_documents(docs)\n"
   ]
  },
  {
   "cell_type": "code",
   "execution_count": 29,
   "metadata": {},
   "outputs": [
    {
     "data": {
      "text/plain": [
       "[Document(metadata={'page': 14, 'source': 'data/english_paris_agreement.pdf'}, page_content='finance should  represent a progression beyond previous efforts. \\n4. The provision of scaled-up financial resources should aim to achieve a \\nbalance between adaptation and mitigation, taking into account country-driven \\nstrategies, and the priorities and needs of developing country Parties, especially \\nthose that are particularly vulnerable to the adverse effects of climate change and \\nhave significant capacity constraints, such as the least developed countries and \\nsmall island developing States, considering the need for public and grant-based \\nresources for adaptation. \\n5. Developed country Parties shall biennially communicate indicative \\nquantitative and qualitative information related to paragraphs 1 and 3 of this \\nArticle, as applicable, including, as available, projected levels of public financial \\nresources to be provided to developing country Parties. Other Parties providing \\nresources are encouraged to communicate biennially such information on a \\nvoluntary basis.'),\n",
       " Document(metadata={'page': 9, 'source': 'data/english_paris_agreement.pdf'}, page_content='8. Parties recognize the importance of integrated, holistic and balanced \\nnon-market approaches being available to Parties to assist in the implementation of \\ntheir nationally determined contributions, in the context of sustainable development \\nand poverty eradication, in a coordinated and effective manner, including through, \\ninter alia, mitigation, adaptation, finance, technology transfer and capacity-\\nbuilding, as appropriate. These approaches shall aim to: \\n(a) Promote mitigation and adaptation ambition; \\n(b) Enhance public and private sector participation in the implementation \\nof nationally determined  contributions; and \\n(c) Enable opportunities for coordination across instruments and relevant \\ninstitutional arrangements. \\n9. A framework for non-market approaches to sustainable development is \\nhereby defined to promote the non-market approaches referred to in paragraph 8 of \\nthis Article. \\n-8-'),\n",
       " Document(metadata={'page': 10, 'source': 'data/english_paris_agreement.pdf'}, page_content='6. Parties recognize the importance of support for and international cooperation \\non adaptation efforts and the importance of taking into account the needs of \\ndeveloping country Parties, especially those that are particularly vulnerable to the \\nadverse effects of climate change. \\n7. Parties should strengthen their cooperation on enhancing action on \\nadaptation, taking into account the Cancun Adaptation Framework, including with \\nregard to: \\n-9-'),\n",
       " Document(metadata={'page': 26, 'source': 'data/UN SDG.pdf'}, page_content='by+removing+ market+ distortions,+ in+ accordance+ with+ national+ circumstances,+ including+ by+restructuring+taxation+and+phasing+out+those+harmful+subsidies,+where+they+exist,+to+reflect+their+environmental+impacts,+taking+fully+into+account+the+specific+needs+and+conditions+of+developing+countries+and+minimizing+the+possible+adverse+impacts+on+their+development+in+a+manner+that+protects+the+poor+and+the+affected+communities+++! !Goal!13.!Take!urgent!action!to!combat!climate!change!and!its!impacts*!+13.1+Strengthen+ resilience+ and+ adaptive+ capacity+ to+ climateJrelated+ hazards+ and+ natural+disasters+in+all+countries++13.2+Integrate+climate+change+measures+into+national+policies,+strategies+and+planning++13.3+Improve+education,+awarenessJraising+and+human+and+institutional+capacity+on+climate+change+mitigation,+adaptation,+impact+reduction+and+early+warning+13.a+Implement+ the+ commitment+ undertaken+ by+ developedJcountry+ parties+ to+ the+'),\n",
       " Document(metadata={'page': 25, 'source': 'data/UN SDG.pdf'}, page_content='2030,+ provide+ universal+ access+ to+ safe,+ inclusive+ and+ accessible,+ green+ and+ public+spaces,+in+particular+for+women+and+children,+older+persons+and+persons+with+disabilities++11.a+Support+positive+economic,+social+and+environmental+links+between+urban,+periJurban+and+rural+areas+by+strengthening+national+and+regional+development+planning++11.b+By+2020,+substantially+increase+the+number+of+cities+and+human+settlements+adopting+and+ implementing+ integrated+ policies+ and+ plans+ towards+ inclusion,+ resource+ efficiency,+mitigation+ and+ adaptation+ to+ climate+ change,+ resilience+ to+ disasters,+ and+ develop+ and+implement,+in+line+with+the+Sendai+Framework+for+Disaster+Risk+Reduction+2015J2030,+holistic+disaster+risk+management+at+all+levels++11.c+Support+least+developed+countries,+including+through+financial+and+technical+assistance,+in+building+sustainable+and+resilient+buildings+utilizing+local+materials+++!'),\n",
       " Document(metadata={'page': 26, 'source': 'data/UN SDG.pdf'}, page_content='the+ commitment+ undertaken+ by+ developedJcountry+ parties+ to+ the+ United+Nations+Framework+Convention+on+Climate+Change+to+a+goal+of+mobilizing+jointly+$100+billion+annually+by+2020+from+all+sources+to+address+the+needs+of+developing+countries+in+the+context+of+meaningful+mitigation+actions+and+transparency+on+implementation+and+fully+operationalize+the+Green+Climate+Fund+through+its+capitalization+as+soon+as+possible+++ *+Acknowledging+that+the+United+Nations+Framework+Convention+on+Climate+Change+is+the+primary+international,+intergovernmental+forum+for+negotiating+the+global+response+to+climate+change.+')]"
      ]
     },
     "execution_count": 29,
     "metadata": {},
     "output_type": "execute_result"
    }
   ],
   "source": [
    "reordered_docs"
   ]
  }
 ],
 "metadata": {
  "kernelspec": {
   "display_name": "idk",
   "language": "python",
   "name": "python3"
  },
  "language_info": {
   "codemirror_mode": {
    "name": "ipython",
    "version": 3
   },
   "file_extension": ".py",
   "mimetype": "text/x-python",
   "name": "python",
   "nbconvert_exporter": "python",
   "pygments_lexer": "ipython3",
   "version": "3.11.9"
  }
 },
 "nbformat": 4,
 "nbformat_minor": 2
}
